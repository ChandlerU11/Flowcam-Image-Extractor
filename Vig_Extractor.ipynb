{
  "nbformat": 4,
  "nbformat_minor": 0,
  "metadata": {
    "colab": {
      "provenance": [],
      "authorship_tag": "ABX9TyPzAaob5CIaLpwX7Q3yJX2D",
      "include_colab_link": true
    },
    "kernelspec": {
      "name": "python3",
      "display_name": "Python 3"
    },
    "language_info": {
      "name": "python"
    }
  },
  "cells": [
    {
      "cell_type": "markdown",
      "metadata": {
        "id": "view-in-github",
        "colab_type": "text"
      },
      "source": [
        "<a href=\"https://colab.research.google.com/github/ChandlerU11/Flowcam-Image-Extractor/blob/main/Vig_Extractor.ipynb\" target=\"_parent\"><img src=\"https://colab.research.google.com/assets/colab-badge.svg\" alt=\"Open In Colab\"/></a>"
      ]
    },
    {
      "cell_type": "code",
      "source": [
        "from google.colab import drive\n",
        "drive.mount('/content/drive')"
      ],
      "metadata": {
        "colab": {
          "base_uri": "https://localhost:8080/"
        },
        "id": "yEa7mzTsTBZi",
        "outputId": "aa7a9386-7a3c-47e4-bc8f-ca20abbf1c96"
      },
      "execution_count": null,
      "outputs": [
        {
          "output_type": "stream",
          "name": "stdout",
          "text": [
            "Mounted at /content/drive\n"
          ]
        }
      ]
    },
    {
      "cell_type": "code",
      "source": [
        "%cd\n",
        "%cd /content/drive/MyDrive/Colab_Notebooks/MALCOM_Notebook_Data\n",
        "%ls"
      ],
      "metadata": {
        "colab": {
          "base_uri": "https://localhost:8080/"
        },
        "id": "Gvk_Ue7Jgcop",
        "outputId": "ecb7a146-8095-4daa-97b1-2811e2ec7273"
      },
      "execution_count": null,
      "outputs": [
        {
          "output_type": "stream",
          "name": "stdout",
          "text": [
            "/root\n",
            "/content/drive/MyDrive/Colab_Notebooks/MALCOM_Notebook_Data\n",
            "CNNf_gen_comments.txt            gossipcopnotebook.txt  \u001b[0m\u001b[01;34mWMS\u001b[0m/\n",
            "gossipcop_content_no_ignore.tsv  gossipcop_real.csv\n",
            "gossipcop_fake.csv               viginette_thresh.png\n"
          ]
        }
      ]
    },
    {
      "cell_type": "code",
      "source": [
        "#!unzip Western_Mississippi_Sound.zip"
      ],
      "metadata": {
        "id": "FY8nJejyQrYz",
        "colab": {
          "base_uri": "https://localhost:8080/"
        },
        "outputId": "00b8821f-2f6a-448b-adc4-86b672c8cf74"
      },
      "execution_count": null,
      "outputs": [
        {
          "output_type": "stream",
          "name": "stdout",
          "text": [
            "unzip:  cannot find or open Western_Mississippi_Sound.zip, Western_Mississippi_Sound.zip.zip or Western_Mississippi_Sound.zip.ZIP.\n"
          ]
        }
      ]
    },
    {
      "cell_type": "code",
      "source": [
        "import cv2\n",
        "import numpy as np\n",
        "import os\n",
        "from google.colab.patches import cv2_imshow\n",
        "import pandas as pd\n",
        "from tqdm.notebook import tqdm\n",
        "\n",
        "for root, dirs, files in os.walk('/content/drive/MyDrive/Colab_Notebooks/MALCOM_Notebook_Data/WMS'):\n",
        "    if 'Singles' not in root:\n",
        "      print(root.split('/'))\n",
        "      for filename in files:\n",
        "          #print(filename)\n",
        "          # read image\n",
        "          img = cv2.imread(os.path.join(root, filename))\n",
        "\n",
        "          # threshold on background color\n",
        "          lowerBound = (0,0,0)\n",
        "          upperBound = (0,0,0)\n",
        "          thresh = cv2.inRange(img, lowerBound, upperBound)\n",
        "\n",
        "          # invert so background black\n",
        "          thresh = 255 - thresh\n",
        "\n",
        "          # apply morphology to ensure regions are filled and remove extraneous noise\n",
        "          kernel = np.ones((7,7), np.uint8)\n",
        "          thresh = cv2.morphologyEx(thresh, cv2.MORPH_OPEN, kernel)\n",
        "          kernel = np.ones((11,11), np.uint8)\n",
        "          thresh = cv2.morphologyEx(thresh, cv2.MORPH_CLOSE, kernel)\n",
        "\n",
        "          # get contours\n",
        "          contours = cv2.findContours(thresh, cv2.RETR_EXTERNAL, cv2.CHAIN_APPROX_SIMPLE)\n",
        "          contours = contours[0] if len(contours) == 2 else contours[1]\n",
        "\n",
        "          # get bounding boxes and crop input\n",
        "          i = 1\n",
        "          for cntr in contours:\n",
        "              # get bounding boxes\n",
        "              x,y,w,h = cv2.boundingRect(cntr)\n",
        "              crop = img[y:y+h, x:x+w]\n",
        "              cv2.imwrite(root[:-13] + \"Singles\" + \"/\" + root[:-13].split(\"/\")[-1][:-1]+\"_viginette_{0}.png\".format(i), crop)\n",
        "              i = i + 1"
      ],
      "metadata": {
        "colab": {
          "base_uri": "https://localhost:8080/"
        },
        "id": "xnG5DgZE3P8G",
        "outputId": "574cf200-7f13-4fe9-f78a-61e8ed3f3c08"
      },
      "execution_count": null,
      "outputs": [
        {
          "output_type": "stream",
          "name": "stdout",
          "text": [
            "['', 'content', 'drive', 'MyDrive', 'Colab_Notebooks', 'MALCOM_Notebook_Data', 'WMS']\n",
            "['', 'content', 'drive', 'MyDrive', 'Colab_Notebooks', 'MALCOM_Notebook_Data', 'WMS', 'WMS1']\n",
            "['', 'content', 'drive', 'MyDrive', 'Colab_Notebooks', 'MALCOM_Notebook_Data', 'WMS', 'WMS1', 'WMS1 FlowCam Files']\n",
            "['', 'content', 'drive', 'MyDrive', 'Colab_Notebooks', 'MALCOM_Notebook_Data', 'WMS', 'WMS2']\n",
            "['', 'content', 'drive', 'MyDrive', 'Colab_Notebooks', 'MALCOM_Notebook_Data', 'WMS', 'WMS2', 'WMS2 FlowCam Files']\n",
            "['', 'content', 'drive', 'MyDrive', 'Colab_Notebooks', 'MALCOM_Notebook_Data', 'WMS', 'WMS3']\n",
            "['', 'content', 'drive', 'MyDrive', 'Colab_Notebooks', 'MALCOM_Notebook_Data', 'WMS', 'WMS3', 'WMS3 FlowCam Files']\n",
            "['', 'content', 'drive', 'MyDrive', 'Colab_Notebooks', 'MALCOM_Notebook_Data', 'WMS', 'WMS4']\n",
            "['', 'content', 'drive', 'MyDrive', 'Colab_Notebooks', 'MALCOM_Notebook_Data', 'WMS', 'WMS4', 'WMS4 FlowCam Files']\n",
            "['', 'content', 'drive', 'MyDrive', 'Colab_Notebooks', 'MALCOM_Notebook_Data', 'WMS', 'WMS5']\n",
            "['', 'content', 'drive', 'MyDrive', 'Colab_Notebooks', 'MALCOM_Notebook_Data', 'WMS', 'WMS5', 'WMS5 FlowCam Files']\n",
            "['', 'content', 'drive', 'MyDrive', 'Colab_Notebooks', 'MALCOM_Notebook_Data', 'WMS', 'WMS6']\n",
            "['', 'content', 'drive', 'MyDrive', 'Colab_Notebooks', 'MALCOM_Notebook_Data', 'WMS', 'WMS6', 'WMS6 FlowCam Files']\n",
            "['', 'content', 'drive', 'MyDrive', 'Colab_Notebooks', 'MALCOM_Notebook_Data', 'WMS', 'WMS7']\n",
            "['', 'content', 'drive', 'MyDrive', 'Colab_Notebooks', 'MALCOM_Notebook_Data', 'WMS', 'WMS7', 'WMS7 FlowCam Files']\n",
            "['', 'content', 'drive', 'MyDrive', 'Colab_Notebooks', 'MALCOM_Notebook_Data', 'WMS', 'WMS8']\n",
            "['', 'content', 'drive', 'MyDrive', 'Colab_Notebooks', 'MALCOM_Notebook_Data', 'WMS', 'WMS8', 'WMS8 FlowCam Files']\n",
            "['', 'content', 'drive', 'MyDrive', 'Colab_Notebooks', 'MALCOM_Notebook_Data', 'WMS', 'WMS9']\n",
            "['', 'content', 'drive', 'MyDrive', 'Colab_Notebooks', 'MALCOM_Notebook_Data', 'WMS', 'WMS9', 'WMS9 FlowCam Files']\n",
            "['', 'content', 'drive', 'MyDrive', 'Colab_Notebooks', 'MALCOM_Notebook_Data', 'WMS', 'WMS10']\n",
            "['', 'content', 'drive', 'MyDrive', 'Colab_Notebooks', 'MALCOM_Notebook_Data', 'WMS', 'WMS10', 'WMS10 FlowCam Files']\n",
            "['', 'content', 'drive', 'MyDrive', 'Colab_Notebooks', 'MALCOM_Notebook_Data', 'WMS', 'WMS11']\n",
            "['', 'content', 'drive', 'MyDrive', 'Colab_Notebooks', 'MALCOM_Notebook_Data', 'WMS', 'WMS11', 'WMS11 FlowCam Files']\n",
            "['', 'content', 'drive', 'MyDrive', 'Colab_Notebooks', 'MALCOM_Notebook_Data', 'WMS', 'WMS12']\n",
            "['', 'content', 'drive', 'MyDrive', 'Colab_Notebooks', 'MALCOM_Notebook_Data', 'WMS', 'WMS12', 'WMS12 FlowCam Files']\n"
          ]
        }
      ]
    },
    {
      "cell_type": "code",
      "source": [
        "dirs_single = []\n",
        "for root, dirs, files in os.walk('/content/drive/MyDrive/Colab_Notebooks/MALCOM_Notebook_Data/WMS'):\n",
        "    for filename in dirs:\n",
        "      if \"Single\" in filename:\n",
        "        dirs_single.append(os.path.join(root, filename))"
      ],
      "metadata": {
        "id": "3a91TWsV7uUv"
      },
      "execution_count": null,
      "outputs": []
    },
    {
      "cell_type": "code",
      "source": [
        "dirs_single"
      ],
      "metadata": {
        "colab": {
          "base_uri": "https://localhost:8080/"
        },
        "id": "JXYl5iDqEv1e",
        "outputId": "198a91f6-f651-4975-e597-d4cd255328a3"
      },
      "execution_count": null,
      "outputs": [
        {
          "output_type": "execute_result",
          "data": {
            "text/plain": [
              "['/content/drive/MyDrive/Colab_Notebooks/MALCOM_Notebook_Data/WMS/WMS1/WMS1 Singles',\n",
              " '/content/drive/MyDrive/Colab_Notebooks/MALCOM_Notebook_Data/WMS/WMS2/WMS2 Singles',\n",
              " '/content/drive/MyDrive/Colab_Notebooks/MALCOM_Notebook_Data/WMS/WMS3/WMS3 Singles',\n",
              " '/content/drive/MyDrive/Colab_Notebooks/MALCOM_Notebook_Data/WMS/WMS4/WMS4 Singles',\n",
              " '/content/drive/MyDrive/Colab_Notebooks/MALCOM_Notebook_Data/WMS/WMS5/WMS5 Singles',\n",
              " '/content/drive/MyDrive/Colab_Notebooks/MALCOM_Notebook_Data/WMS/WMS6/WMS6 Singles',\n",
              " '/content/drive/MyDrive/Colab_Notebooks/MALCOM_Notebook_Data/WMS/WMS7/WMS7 Singles',\n",
              " '/content/drive/MyDrive/Colab_Notebooks/MALCOM_Notebook_Data/WMS/WMS8/WMS8 Singles',\n",
              " '/content/drive/MyDrive/Colab_Notebooks/MALCOM_Notebook_Data/WMS/WMS9/WMS9 Singles',\n",
              " '/content/drive/MyDrive/Colab_Notebooks/MALCOM_Notebook_Data/WMS/WMS10/WMS10 Singles',\n",
              " '/content/drive/MyDrive/Colab_Notebooks/MALCOM_Notebook_Data/WMS/WMS11/WMS11 Singles',\n",
              " '/content/drive/MyDrive/Colab_Notebooks/MALCOM_Notebook_Data/WMS/WMS12/WMS12 Singles']"
            ]
          },
          "metadata": {},
          "execution_count": 6
        }
      ]
    },
    {
      "cell_type": "code",
      "source": [
        "for item in dirs_single:\n",
        "  tsv_file = pd.DataFrame()\n",
        "  file_names = ['[t]']\n",
        "  ids = ['[t]']\n",
        "  for root, dirs, files in os.walk(item):\n",
        "    for f in files:\n",
        "      if '.tsv' not in f:\n",
        "        #print(item.split('/'))\n",
        "        #file_names.append(item.split('/')[-2]+'_'+f)\n",
        "        #ids.append(item.split('/')[-2]+'_'+f.strip('.png'))\n",
        "        file_names.append(f)\n",
        "        ids.append(f.strip('.png'))\n",
        "  tsv_file['img_file_name'] = file_names\n",
        "  tsv_file['object_id'] = ids\n",
        "  print(tsv_file.head())\n",
        "  tsv_file.to_csv(item + \"/ecotaxa_table.tsv\", sep = '\\t', index = False)\n",
        "  #print(tsv_file.head())"
      ],
      "metadata": {
        "id": "oRoLnlRHBoPI",
        "colab": {
          "base_uri": "https://localhost:8080/"
        },
        "outputId": "59ac8144-bf42-47a1-9415-08adf99feea0"
      },
      "execution_count": null,
      "outputs": [
        {
          "output_type": "stream",
          "name": "stdout",
          "text": [
            "          img_file_name         object_id\n",
            "0                   [t]               [t]\n",
            "1  WMS1_viginette_1.png  WMS1_viginette_1\n",
            "2  WMS1_viginette_2.png  WMS1_viginette_2\n",
            "3  WMS1_viginette_3.png  WMS1_viginette_3\n",
            "4  WMS1_viginette_4.png  WMS1_viginette_4\n",
            "          img_file_name         object_id\n",
            "0                   [t]               [t]\n",
            "1  WMS2_viginette_1.png  WMS2_viginette_1\n",
            "2  WMS2_viginette_2.png  WMS2_viginette_2\n",
            "3  WMS2_viginette_3.png  WMS2_viginette_3\n",
            "4  WMS2_viginette_4.png  WMS2_viginette_4\n",
            "          img_file_name         object_id\n",
            "0                   [t]               [t]\n",
            "1  WMS3_viginette_1.png  WMS3_viginette_1\n",
            "2  WMS3_viginette_2.png  WMS3_viginette_2\n",
            "3  WMS3_viginette_3.png  WMS3_viginette_3\n",
            "4  WMS3_viginette_4.png  WMS3_viginette_4\n",
            "          img_file_name         object_id\n",
            "0                   [t]               [t]\n",
            "1  WMS4_viginette_1.png  WMS4_viginette_1\n",
            "2  WMS4_viginette_2.png  WMS4_viginette_2\n",
            "3  WMS4_viginette_3.png  WMS4_viginette_3\n",
            "4  WMS4_viginette_4.png  WMS4_viginette_4\n",
            "          img_file_name         object_id\n",
            "0                   [t]               [t]\n",
            "1  WMS5_viginette_1.png  WMS5_viginette_1\n",
            "2  WMS5_viginette_2.png  WMS5_viginette_2\n",
            "3  WMS5_viginette_3.png  WMS5_viginette_3\n",
            "4  WMS5_viginette_4.png  WMS5_viginette_4\n",
            "          img_file_name         object_id\n",
            "0                   [t]               [t]\n",
            "1  WMS6_viginette_1.png  WMS6_viginette_1\n",
            "2  WMS6_viginette_2.png  WMS6_viginette_2\n",
            "3  WMS6_viginette_3.png  WMS6_viginette_3\n",
            "4  WMS6_viginette_4.png  WMS6_viginette_4\n",
            "          img_file_name         object_id\n",
            "0                   [t]               [t]\n",
            "1  WMS7_viginette_1.png  WMS7_viginette_1\n",
            "2  WMS7_viginette_2.png  WMS7_viginette_2\n",
            "3  WMS7_viginette_3.png  WMS7_viginette_3\n",
            "4  WMS7_viginette_4.png  WMS7_viginette_4\n",
            "          img_file_name         object_id\n",
            "0                   [t]               [t]\n",
            "1  WMS8_viginette_1.png  WMS8_viginette_1\n",
            "2  WMS8_viginette_2.png  WMS8_viginette_2\n",
            "3  WMS8_viginette_3.png  WMS8_viginette_3\n",
            "4  WMS8_viginette_4.png  WMS8_viginette_4\n",
            "          img_file_name         object_id\n",
            "0                   [t]               [t]\n",
            "1  WMS9_viginette_1.png  WMS9_viginette_1\n",
            "2  WMS9_viginette_2.png  WMS9_viginette_2\n",
            "3  WMS9_viginette_3.png  WMS9_viginette_3\n",
            "4  WMS9_viginette_4.png  WMS9_viginette_4\n",
            "           img_file_name          object_id\n",
            "0                    [t]                [t]\n",
            "1  WMS10_viginette_1.png  WMS10_viginette_1\n",
            "2  WMS10_viginette_2.png  WMS10_viginette_2\n",
            "3  WMS10_viginette_3.png  WMS10_viginette_3\n",
            "4  WMS10_viginette_4.png  WMS10_viginette_4\n",
            "           img_file_name          object_id\n",
            "0                    [t]                [t]\n",
            "1  WMS11_viginette_1.png  WMS11_viginette_1\n",
            "2  WMS11_viginette_2.png  WMS11_viginette_2\n",
            "3  WMS11_viginette_3.png  WMS11_viginette_3\n",
            "4  WMS11_viginette_4.png  WMS11_viginette_4\n",
            "           img_file_name          object_id\n",
            "0                    [t]                [t]\n",
            "1  WMS12_viginette_1.png  WMS12_viginette_1\n",
            "2  WMS12_viginette_2.png  WMS12_viginette_2\n",
            "3  WMS12_viginette_3.png  WMS12_viginette_3\n",
            "4  WMS12_viginette_4.png  WMS12_viginette_4\n"
          ]
        }
      ]
    },
    {
      "cell_type": "code",
      "source": [],
      "metadata": {
        "id": "a4FdaHDaDk0Y"
      },
      "execution_count": null,
      "outputs": []
    }
  ]
}